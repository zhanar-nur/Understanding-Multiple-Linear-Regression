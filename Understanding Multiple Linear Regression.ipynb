{
 "cells": [
  {
   "cell_type": "markdown",
   "metadata": {},
   "source": [
    "# Understanding Multiple Linear Regression"
   ]
  },
  {
   "cell_type": "markdown",
   "metadata": {},
   "source": [
    "## Introduction"
   ]
  },
  {
   "cell_type": "markdown",
   "metadata": {},
   "source": [
    "### Goal:\n",
    "\n",
    "This analysis will demonstrate how to quantify the relationship between three variables using a Multiple Linear Regression model. I will be using a dataset that contains three variables (mid-semester examination scores, end-semester examination scores and attendance level) in order to quantify if the mid-semester scores and the classroom attendance are good predictors for the end-semester scores.\n",
    "\n",
    "*We use Multiple linear regression, when we’d like to understand the relationship between multiple independent variables and a dependent variable.*"
   ]
  },
  {
   "cell_type": "markdown",
   "metadata": {},
   "source": [
    "#### Documentation:\n",
    "Predicting End Semester Performance dataset will be used for the analysis. \n",
    "It is public and available in Kaggle at <a href= \"https://www.kaggle.com/akiwelekar/predictingese\" target=\"_blank\">this link</a>. "
   ]
  },
  {
   "cell_type": "markdown",
   "metadata": {},
   "source": [
    "#### Data Dictionary: \n",
    "- MSE: mid-semester examination scores (marks are out of 30). \n",
    "- ESE: end-semester examination scores (marks are out of 70).\n",
    "- Attendance: classroom attendance in percentage.\n",
    "\n",
    "This is a real data collected in the year of 2014 on Software Architecture to the seventh-semester student of B. Tech. (Computer Engineering). <a href= \"https://www.kaggle.com/akiwelekar/predictingese\" target=\"_blank\">Resource link</a>. "
   ]
  },
  {
   "cell_type": "markdown",
   "metadata": {},
   "source": [
    "### Understanding Data"
   ]
  },
  {
   "cell_type": "code",
   "execution_count": 15,
   "metadata": {},
   "outputs": [
    {
     "name": "stdout",
     "output_type": "stream",
     "text": [
      "Load Libraries - Done\n",
      "_______________________________________________________________________________________________________________________________\n"
     ]
    }
   ],
   "source": [
    "# importing modules\n",
    "import pandas as pd\n",
    "import numpy as np\n",
    "import seaborn as sns\n",
    "import statsmodels.api as sm\n",
    "import matplotlib.pyplot as plt\n",
    "import statsmodels.api as sm\n",
    "import statsmodels.stats.api as sms\n",
    "from statsmodels.compat import lzip\n",
    "from statsmodels.formula.api import ols\n",
    "from statsmodels.stats.stattools import durbin_watson\n",
    "import statsmodels.formula.api as smf\n",
    "from statsmodels.stats.outliers_influence import variance_inflation_factor\n",
    "import scipy.stats as stats\n",
    "from patsy import dmatrices\n",
    "\n",
    "print('Load Libraries - Done')\n",
    "print ('_'*127)"
   ]
  },
  {
   "cell_type": "code",
   "execution_count": 2,
   "metadata": {},
   "outputs": [
    {
     "data": {
      "text/html": [
       "<div>\n",
       "<style scoped>\n",
       "    .dataframe tbody tr th:only-of-type {\n",
       "        vertical-align: middle;\n",
       "    }\n",
       "\n",
       "    .dataframe tbody tr th {\n",
       "        vertical-align: top;\n",
       "    }\n",
       "\n",
       "    .dataframe thead th {\n",
       "        text-align: right;\n",
       "    }\n",
       "</style>\n",
       "<table border=\"1\" class=\"dataframe\">\n",
       "  <thead>\n",
       "    <tr style=\"text-align: right;\">\n",
       "      <th></th>\n",
       "      <th>Attendance</th>\n",
       "      <th>MSE</th>\n",
       "      <th>ESE</th>\n",
       "    </tr>\n",
       "  </thead>\n",
       "  <tbody>\n",
       "    <tr>\n",
       "      <th>0</th>\n",
       "      <td>70</td>\n",
       "      <td>10</td>\n",
       "      <td>42</td>\n",
       "    </tr>\n",
       "    <tr>\n",
       "      <th>1</th>\n",
       "      <td>92</td>\n",
       "      <td>7</td>\n",
       "      <td>39</td>\n",
       "    </tr>\n",
       "    <tr>\n",
       "      <th>2</th>\n",
       "      <td>67</td>\n",
       "      <td>3</td>\n",
       "      <td>32</td>\n",
       "    </tr>\n",
       "    <tr>\n",
       "      <th>3</th>\n",
       "      <td>82</td>\n",
       "      <td>16</td>\n",
       "      <td>50</td>\n",
       "    </tr>\n",
       "    <tr>\n",
       "      <th>4</th>\n",
       "      <td>80</td>\n",
       "      <td>9</td>\n",
       "      <td>44</td>\n",
       "    </tr>\n",
       "  </tbody>\n",
       "</table>\n",
       "</div>"
      ],
      "text/plain": [
       "   Attendance  MSE  ESE\n",
       "0          70   10   42\n",
       "1          92    7   39\n",
       "2          67    3   32\n",
       "3          82   16   50\n",
       "4          80    9   44"
      ]
     },
     "execution_count": 2,
     "metadata": {},
     "output_type": "execute_result"
    }
   ],
   "source": [
    "# uploading the dataset\n",
    "df = pd.read_csv('AttendanceMarksSA.csv')\n",
    "df.head()"
   ]
  },
  {
   "cell_type": "markdown",
   "metadata": {},
   "source": [
    "Above is the visual look of the dataset.\n",
    "___"
   ]
  },
  {
   "cell_type": "code",
   "execution_count": 3,
   "metadata": {},
   "outputs": [
    {
     "name": "stdout",
     "output_type": "stream",
     "text": [
      "There are 73 observations/rows and 3 variables/columns in the dataset\n",
      "_______________________________________________________________________________________________________________________________\n"
     ]
    }
   ],
   "source": [
    "# checking the dataset dimension\n",
    "print(f'There are {df.shape[0]} observations/rows and {df.shape[1]} variables/columns in the dataset')\n",
    "print ('_'*127)"
   ]
  },
  {
   "cell_type": "code",
   "execution_count": 4,
   "metadata": {},
   "outputs": [
    {
     "name": "stdout",
     "output_type": "stream",
     "text": [
      "<class 'pandas.core.frame.DataFrame'>\n",
      "RangeIndex: 73 entries, 0 to 72\n",
      "Data columns (total 3 columns):\n",
      " #   Column      Non-Null Count  Dtype\n",
      "---  ------      --------------  -----\n",
      " 0   Attendance  73 non-null     int64\n",
      " 1   MSE         73 non-null     int64\n",
      " 2   ESE         73 non-null     int64\n",
      "dtypes: int64(3)\n",
      "memory usage: 1.8 KB\n"
     ]
    }
   ],
   "source": [
    "# checking variable types\n",
    "df.info()"
   ]
  },
  {
   "cell_type": "markdown",
   "metadata": {},
   "source": [
    "As per the above output, the dataset has three numeric variables.\n",
    "___"
   ]
  },
  {
   "cell_type": "code",
   "execution_count": 5,
   "metadata": {},
   "outputs": [
    {
     "name": "stdout",
     "output_type": "stream",
     "text": [
      "Attendance - 0.0%\n",
      "MSE - 0.0%\n",
      "ESE - 0.0%\n"
     ]
    }
   ],
   "source": [
    "# checking missing values in %\n",
    "for col in df.columns:\n",
    "    missing = np.mean(df[col].isnull())\n",
    "    print('{} - {}%'.format(col, (missing*100)))"
   ]
  },
  {
   "cell_type": "markdown",
   "metadata": {},
   "source": [
    "According to the above output, there is no missing data in the dataset.\n",
    "___"
   ]
  },
  {
   "cell_type": "code",
   "execution_count": 6,
   "metadata": {},
   "outputs": [
    {
     "data": {
      "text/plain": [
       "0     False\n",
       "1     False\n",
       "2     False\n",
       "3     False\n",
       "4     False\n",
       "      ...  \n",
       "68    False\n",
       "69    False\n",
       "70    False\n",
       "71    False\n",
       "72    False\n",
       "Length: 73, dtype: bool"
      ]
     },
     "execution_count": 6,
     "metadata": {},
     "output_type": "execute_result"
    }
   ],
   "source": [
    "# checking duplicate data\n",
    "df.duplicated()"
   ]
  },
  {
   "cell_type": "markdown",
   "metadata": {},
   "source": [
    "According to the above output, there is no duplicate data in the dataset.\n",
    "___"
   ]
  },
  {
   "cell_type": "code",
   "execution_count": 7,
   "metadata": {},
   "outputs": [
    {
     "data": {
      "text/html": [
       "<div>\n",
       "<style scoped>\n",
       "    .dataframe tbody tr th:only-of-type {\n",
       "        vertical-align: middle;\n",
       "    }\n",
       "\n",
       "    .dataframe tbody tr th {\n",
       "        vertical-align: top;\n",
       "    }\n",
       "\n",
       "    .dataframe thead th {\n",
       "        text-align: right;\n",
       "    }\n",
       "</style>\n",
       "<table border=\"1\" class=\"dataframe\">\n",
       "  <thead>\n",
       "    <tr style=\"text-align: right;\">\n",
       "      <th></th>\n",
       "      <th>count</th>\n",
       "      <th>mean</th>\n",
       "      <th>std</th>\n",
       "      <th>min</th>\n",
       "      <th>25%</th>\n",
       "      <th>50%</th>\n",
       "      <th>75%</th>\n",
       "      <th>max</th>\n",
       "    </tr>\n",
       "  </thead>\n",
       "  <tbody>\n",
       "    <tr>\n",
       "      <th>Attendance</th>\n",
       "      <td>73.0</td>\n",
       "      <td>81.698630</td>\n",
       "      <td>9.506847</td>\n",
       "      <td>62.0</td>\n",
       "      <td>75.0</td>\n",
       "      <td>80.0</td>\n",
       "      <td>90.0</td>\n",
       "      <td>98.0</td>\n",
       "    </tr>\n",
       "    <tr>\n",
       "      <th>MSE</th>\n",
       "      <td>73.0</td>\n",
       "      <td>9.780822</td>\n",
       "      <td>3.047069</td>\n",
       "      <td>3.0</td>\n",
       "      <td>8.0</td>\n",
       "      <td>10.0</td>\n",
       "      <td>11.0</td>\n",
       "      <td>17.0</td>\n",
       "    </tr>\n",
       "    <tr>\n",
       "      <th>ESE</th>\n",
       "      <td>73.0</td>\n",
       "      <td>46.630137</td>\n",
       "      <td>6.617542</td>\n",
       "      <td>32.0</td>\n",
       "      <td>42.0</td>\n",
       "      <td>47.0</td>\n",
       "      <td>50.0</td>\n",
       "      <td>64.0</td>\n",
       "    </tr>\n",
       "  </tbody>\n",
       "</table>\n",
       "</div>"
      ],
      "text/plain": [
       "            count       mean       std   min   25%   50%   75%   max\n",
       "Attendance   73.0  81.698630  9.506847  62.0  75.0  80.0  90.0  98.0\n",
       "MSE          73.0   9.780822  3.047069   3.0   8.0  10.0  11.0  17.0\n",
       "ESE          73.0  46.630137  6.617542  32.0  42.0  47.0  50.0  64.0"
      ]
     },
     "execution_count": 7,
     "metadata": {},
     "output_type": "execute_result"
    }
   ],
   "source": [
    "# evaluating summary statistics\n",
    "summary = df.describe().T\n",
    "summary"
   ]
  },
  {
   "cell_type": "markdown",
   "metadata": {},
   "source": [
    "The above output indicates that the data has relatively low standard deviation, meaning that the data does not suffer from high variability. The above figures do not indicate any potential errors in the dataset as the 'Attendance' falls until 98 which is within acceptable range; the 'MSE' falls between 3 and 17, which is also acceptable as per the given dataset, as it marks are out of 30 and the 'ESE' falls between 31 and 70, which is acceptable as well, as per the given dataset it marks are out of 70.\n",
    "___"
   ]
  },
  {
   "cell_type": "code",
   "execution_count": 8,
   "metadata": {},
   "outputs": [
    {
     "data": {
      "text/plain": [
       "<matplotlib.axes._subplots.AxesSubplot at 0x229c02a91f0>"
      ]
     },
     "execution_count": 8,
     "metadata": {},
     "output_type": "execute_result"
    },
    {
     "data": {
      "image/png": "[encoded data removed]",
      "text/plain": [
       "<Figure size 432x288 with 1 Axes>"
      ]
     },
     "metadata": {
      "needs_background": "light"
     },
     "output_type": "display_data"
    }
   ],
   "source": [
    "# boxplot to visualize the distribution of 'Attendance'\n",
    "\n",
    "df.boxplot(column=['Attendance'])"
   ]
  },
  {
   "cell_type": "code",
   "execution_count": 9,
   "metadata": {},
   "outputs": [
    {
     "data": {
      "text/plain": [
       "<matplotlib.axes._subplots.AxesSubplot at 0x229c09fda60>"
      ]
     },
     "execution_count": 9,
     "metadata": {},
     "output_type": "execute_result"
    },
    {
     "data": {
      "image/png": "[encoded data removed]",
      "text/plain": [
       "<Figure size 432x288 with 1 Axes>"
      ]
     },
     "metadata": {
      "needs_background": "light"
     },
     "output_type": "display_data"
    }
   ],
   "source": [
    "# boxplot to visualize the distribution of 'MSE'\n",
    "\n",
    "df.boxplot(column=['MSE'])"
   ]
  },
  {
   "cell_type": "code",
   "execution_count": 10,
   "metadata": {},
   "outputs": [
    {
     "data": {
      "text/plain": [
       "<matplotlib.axes._subplots.AxesSubplot at 0x229c09fd970>"
      ]
     },
     "execution_count": 10,
     "metadata": {},
     "output_type": "execute_result"
    },
    {
     "data": {
      "image/png": "[encoded data removed]",
      "text/plain": [
       "<Figure size 432x288 with 1 Axes>"
      ]
     },
     "metadata": {
      "needs_background": "light"
     },
     "output_type": "display_data"
    }
   ],
   "source": [
    "# boxplot to visualize the distribution of 'ESE'\n",
    "\n",
    "df.boxplot(column=['ESE'])"
   ]
  },
  {
   "cell_type": "markdown",
   "metadata": {},
   "source": [
    "As per the above boxplots, the 'ESE' and the 'MSE' have some outliers, however, the summary statistics checked earlier indicates that the min and the max values of the variables fall within the required limit. Since this analysis is only for the demonstration and besides, I cannot reach a subject-matter expert on the dataset, I will run the analysis as it is without any manipulations on the outliers.\n",
    "___"
   ]
  },
  {
   "cell_type": "markdown",
   "metadata": {},
   "source": [
    "### Performing Multiple Linear Regression"
   ]
  },
  {
   "cell_type": "code",
   "execution_count": 22,
   "metadata": {},
   "outputs": [
    {
     "name": "stdout",
     "output_type": "stream",
     "text": [
      "                            OLS Regression Results                            \n",
      "==============================================================================\n",
      "Dep. Variable:                    ESE   R-squared:                       0.567\n",
      "Model:                            OLS   Adj. R-squared:                  0.555\n",
      "Method:                 Least Squares   F-statistic:                     45.87\n",
      "Date:                Thu, 12 Aug 2021   Prob (F-statistic):           1.86e-13\n",
      "Time:                        17:57:38   Log-Likelihood:                -210.46\n",
      "No. Observations:                  73   AIC:                             426.9\n",
      "Df Residuals:                      70   BIC:                             433.8\n",
      "Df Model:                           2                                         \n",
      "Covariance Type:            nonrobust                                         \n",
      "==============================================================================\n",
      "                 coef    std err          t      P>|t|      [0.025      0.975]\n",
      "------------------------------------------------------------------------------\n",
      "const         33.5645      4.942      6.792      0.000      23.709      43.420\n",
      "Attendance    -0.0344      0.055     -0.627      0.533      -0.144       0.075\n",
      "MSE            1.6235      0.171      9.476      0.000       1.282       1.965\n",
      "==============================================================================\n",
      "Omnibus:                        2.137   Durbin-Watson:                   1.457\n",
      "Prob(Omnibus):                  0.343   Jarque-Bera (JB):                1.426\n",
      "Skew:                          -0.049   Prob(JB):                        0.490\n",
      "Kurtosis:                       2.322   Cond. No.                         792.\n",
      "==============================================================================\n",
      "\n",
      "Warnings:\n",
      "[1] Standard Errors assume that the covariance matrix of the errors is correctly specified.\n"
     ]
    }
   ],
   "source": [
    "# assigning dependent variable\n",
    "y = df['ESE']\n",
    "\n",
    "# assigning independent variables\n",
    "x = df[['Attendance', 'MSE']]\n",
    "\n",
    "# adding constant to independent variables\n",
    "x = sm.add_constant(x)\n",
    "\n",
    "# fitting regression model\n",
    "model = sm.OLS(y, x).fit()\n",
    "\n",
    "# checking model summary\n",
    "print(model.summary())"
   ]
  },
  {
   "cell_type": "markdown",
   "metadata": {},
   "source": [
    "**Interpretation of the model summary:**\n",
    "\n",
    "- **R-squared** - or the coefficient of determination is 0.567. It indicates the proportion of the variance in the 'ESE' that can be explained by the 'Attendance' and the 'MSE'. In this example, 56.7% of the variation in the 'ESE' can be explained by the 'Attendance' and the 'MSE'.\n",
    "\n",
    "- **F-statistic** - is 45.87 and the corresponding p-value/Prob (F-statistic) is 1.86e-13. It shows if the regression model is a statistically significant or not. In other words, it indicates if the two independent variables have a statistical significance with the dependent variable. In this model, the p-value is less than 0.05 (5%), which tells us that there is a statistically significant association between the independent and the dependent variables of the model.\n",
    "\n",
    "- **coef** - the coefficients indicate the average anticipated changes in the dependent variable for each independent variable, but assuming the other independent variable remains constant. For example, for each additional point in the 'MSE' the 'ESE' is expected to increase by 1.6235. \n",
    "\n",
    "The interpretation of the coefficient for the intercept means that the expected score of the 'ESE' for a student who has zero 'MSE' scores and zero 'Attendance' is 33.5645.\n",
    "\n",
    "- **P>|t|** - it shows the individual p-values that indicate whether each independent variable is statistically significant or not. As we can see from the output, the 'MSE' is statistically significant (p = 0.00), while the 'Attendance' (p = 0.533) is not statistically significant as its individual p-value is higher than 0.05 (5%). The 'Attendance' can be removed from the model as it is not statistically significant.\n",
    "\n",
    "                                                        ***\n",
    "                                                        \n",
    "The coefficients of the model can be used to estimate the regression equation:\n",
    "\n",
    "**ESE = 33.5645 - 0.0344 * (Attendance) + 1.6235 * (MSE)**\n",
    "\n",
    "The above equation can be used to calculate the 'ESE', based on the number of the independent variables. However, since the 'Attendance' is not statistically significant, it should be removed because it doesn’t add any improvement to the overall model, but I will not delete anything in order to demonstrate the model."
   ]
  },
  {
   "cell_type": "markdown",
   "metadata": {},
   "source": [
    "#### *Checking Assumptions*"
   ]
  },
  {
   "cell_type": "code",
   "execution_count": 12,
   "metadata": {},
   "outputs": [
    {
     "name": "stderr",
     "output_type": "stream",
     "text": [
      "C:\\Anaconda3\\lib\\site-packages\\seaborn\\axisgrid.py:2071: UserWarning: The `size` parameter has been renamed to `height`; please update your code.\n",
      "  warnings.warn(msg, UserWarning)\n"
     ]
    },
    {
     "data": {
      "image/png": "[encoded data removed]",
      "text/plain": [
       "<Figure size 705.6x504 with 2 Axes>"
      ]
     },
     "metadata": {
      "needs_background": "light"
     },
     "output_type": "display_data"
    }
   ],
   "source": [
    "# assumption #01 - Linear Relationship between variables\n",
    "# scatterplots to visualize the relationship between variables\n",
    "p = sns.pairplot(df, x_vars=['Attendance', 'MSE'], y_vars='ESE', size=7, aspect=0.7)"
   ]
  },
  {
   "cell_type": "markdown",
   "metadata": {},
   "source": [
    "By looking at the plots, we can see that there is a linear relationship between the 'MSE' and the 'ESE'. The 'Attendance' hardly has any specific shape with the 'ESE', meaning that there is no linear relationship between them. As per the requirements of the Multiple Linear Regression model, the 'Attendance' variable needs to be removed from the model. If we remove the 'Attendance' we can simply run the Simple Linear Regression model with the MSE' and the 'ESE' or use another non-linear models without removing the 'Attendance', however, since the purpose of this work is purely for the demonstration of the Multiple Regression model, I will continue to proceed with it. \n",
    "\n",
    "So, as we can see from the above, the first assumption is failed. There is no linear relationship between the 'Attendance' and the 'ESE' variables.\n",
    "___"
   ]
  },
  {
   "cell_type": "code",
   "execution_count": 13,
   "metadata": {},
   "outputs": [
    {
     "data": {
      "text/plain": [
       "1.4571230797613868"
      ]
     },
     "execution_count": 13,
     "metadata": {},
     "output_type": "execute_result"
    }
   ],
   "source": [
    "# assumption #02 - Independence of residuals\n",
    "# Durbin-Watson Test to check Independence of residuals\n",
    "durbin_watson(model.resid)"
   ]
  },
  {
   "cell_type": "markdown",
   "metadata": {},
   "source": [
    "Independence of residuals is necessary in order to make sure that there is no correlation between the residuals. One way to check it is Durbin-Watson Test, which is used to verify the presence of autocorrelation in the residuals of the regression. \n",
    "\n",
    "                                                        ***\n",
    "                                                        \n",
    "**The test statistic is roughly equal to 2*(1-r)**\n",
    "where **r** - the sample autocorrelation of the residuals. \n",
    "\n",
    "*The test statistic will always fall between the range of 0 and 4 with the following interpretations:*\n",
    "\n",
    "- if the test statistic equals to 2 it indicates that there is no serial correlation.\n",
    "- the closer the test statistics is to 0, the more positive serial correlation.\n",
    "- the closer the test statistics is to 4, the negative serial correlation.\n",
    "\n",
    "**The test statistic between the range of 1.5 and 2.5 are considered normal, but the values outside of that range could indicate that autocorrelation is a problem.**\n",
    "\n",
    "                                                        ***\n",
    "                                                        \n",
    "As per the above output, the test statistic of our model is 1.457 which is almost within the required range.\n",
    "___"
   ]
  },
  {
   "cell_type": "code",
   "execution_count": 17,
   "metadata": {},
   "outputs": [
    {
     "data": {
      "text/plain": [
       "[('Lagrange multiplier statistic', 1.072945545568853),\n",
       " ('p-value', 0.5848073672177055),\n",
       " ('f-value', 0.5220997075405232),\n",
       " ('f p-value', 0.5955655089292831)]"
      ]
     },
     "execution_count": 17,
     "metadata": {},
     "output_type": "execute_result"
    }
   ],
   "source": [
    "# assumption #03 - Homoscedasticity of residuals\n",
    "# Breusch-Pagan Test to check homoscedasticity of residuals\n",
    "\n",
    "names = ['Lagrange multiplier statistic', 'p-value',\n",
    "        'f-value', 'f p-value']\n",
    "test = sms.het_breuschpagan(model.resid, model.model.exog)\n",
    "\n",
    "lzip(names, test)"
   ]
  },
  {
   "cell_type": "markdown",
   "metadata": {},
   "source": [
    "The test for Homoscedasticity of residuals is required in order to make sure that there is equal scatter of residuals, otherwise, it is known as Heteroscedasticity or unequal scatter of residuals. Heteroscedastic model is a problem because as per ordinary least squares (OLS), the regression supposes that the residuals are from a homoscedastic sample, which means constant variance. If the model is heteroscedastic, then the results of the analysis become unreliable. One way to verify it is Breusch-Pagan Test.\n",
    "\n",
    "                                                        ***\n",
    "                                                        \n",
    "As per the above results of the Breusch-Pagan Test, the Lagrange multiplier statistic for the test is 1.07 and the corresponding p-value is 0.584. Because the p-value is not less than 0.05 (5%), we fail to reject the null hypothesis (The null hypothesis (H0): Homoscedasticity is present), which means that there is no heteroscedasticity in the regression model.\n",
    "___"
   ]
  },
  {
   "cell_type": "code",
   "execution_count": 18,
   "metadata": {},
   "outputs": [
    {
     "data": {
      "text/plain": [
       "Jarque_beraResult(statistic=16.5922686194202, pvalue=0.00024947937545161114)"
      ]
     },
     "execution_count": 18,
     "metadata": {},
     "output_type": "execute_result"
    }
   ],
   "source": [
    "# assumption #04 - Normality of residuals\n",
    "# Jarque-Bera Test\n",
    "stats.jarque_bera(df)"
   ]
  },
  {
   "cell_type": "markdown",
   "metadata": {},
   "source": [
    "One way to verify a normal distribution of the dataset is the Jarque-Bera test. \n",
    "\n",
    "In our example, the test statistic is 16.592 and the corresponding p-value is 0.0002. Since the p-value is less than .05 (5%), we reject the null hypothesis, meaning that there is sufficient evidence to conclude that this data has skewness that is significantly different from a normal distribution. \n",
    "___"
   ]
  },
  {
   "cell_type": "code",
   "execution_count": 21,
   "metadata": {},
   "outputs": [
    {
     "data": {
      "text/html": [
       "<div>\n",
       "<style scoped>\n",
       "    .dataframe tbody tr th:only-of-type {\n",
       "        vertical-align: middle;\n",
       "    }\n",
       "\n",
       "    .dataframe tbody tr th {\n",
       "        vertical-align: top;\n",
       "    }\n",
       "\n",
       "    .dataframe thead th {\n",
       "        text-align: right;\n",
       "    }\n",
       "</style>\n",
       "<table border=\"1\" class=\"dataframe\">\n",
       "  <thead>\n",
       "    <tr style=\"text-align: right;\">\n",
       "      <th></th>\n",
       "      <th>VIF</th>\n",
       "      <th>variable</th>\n",
       "    </tr>\n",
       "  </thead>\n",
       "  <tbody>\n",
       "    <tr>\n",
       "      <th>0</th>\n",
       "      <td>91.443552</td>\n",
       "      <td>Intercept</td>\n",
       "    </tr>\n",
       "    <tr>\n",
       "      <th>1</th>\n",
       "      <td>1.006595</td>\n",
       "      <td>Attendance</td>\n",
       "    </tr>\n",
       "    <tr>\n",
       "      <th>2</th>\n",
       "      <td>1.006595</td>\n",
       "      <td>MSE</td>\n",
       "    </tr>\n",
       "  </tbody>\n",
       "</table>\n",
       "</div>"
      ],
      "text/plain": [
       "         VIF    variable\n",
       "0  91.443552   Intercept\n",
       "1   1.006595  Attendance\n",
       "2   1.006595         MSE"
      ]
     },
     "execution_count": 21,
     "metadata": {},
     "output_type": "execute_result"
    }
   ],
   "source": [
    "# assumption #05 - Multicollinearity\n",
    "# checking design matrix \n",
    "y, X = dmatrices('ESE ~ Attendance+MSE', data=df, return_type='dataframe')\n",
    "\n",
    "#calculate VIF for each explanatory variable\n",
    "vif = pd.DataFrame()\n",
    "vif['VIF'] = [variance_inflation_factor(X.values, i) for i in range(X.shape[1])]\n",
    "vif['variable'] = X.columns\n",
    "\n",
    "#view VIF\n",
    "vif"
   ]
  },
  {
   "cell_type": "markdown",
   "metadata": {},
   "source": [
    "Multicollinearity in regression analysis can happen if two or more independent variables are highly correlated with each other, thus they do not provide independent information to the model. One of the way to verify multicollinearity is using the variance inflation factor (VIF).\n",
    "\n",
    "VIF measures the strength of correlation and correlation itself between the independent variables and can be interpreted as follow: \n",
    "- the 'Intercept' of the VIF can be ignored since it's irrelevant in the model.\n",
    "- if the VIF is 1, it indicates there is no correlation between a given independent variable and any other independent variables;\n",
    "- if the VIF is between 1 and 5, it indicates moderate correlation between a given independent variable and any other independent variables;\n",
    "- if the VIF is greater than 5, it indicates potentially significant correlation between a given independent variable and any other independent variables. \n",
    "\n",
    "                                                        ***\n",
    "                                                        \n",
    "Given that each of the VIF values for the independent variable in our model are around 1, we can conclude that the multicollinearity is not an issue in our example.\n",
    "___"
   ]
  },
  {
   "cell_type": "markdown",
   "metadata": {},
   "source": [
    "## Summary"
   ]
  },
  {
   "cell_type": "markdown",
   "metadata": {},
   "source": [
    "This analysis has been performed purely for the display purposes of the Multiple Linear Regression model and demonstrated how important to make sure that all the assumptions of the model are met. "
   ]
  }
 ],
 "metadata": {
  "kernelspec": {
   "display_name": "Python 3",
   "language": "python",
   "name": "python3"
  },
  "language_info": {
   "codemirror_mode": {
    "name": "ipython",
    "version": 3
   },
   "file_extension": ".py",
   "mimetype": "text/x-python",
   "name": "python",
   "nbconvert_exporter": "python",
   "pygments_lexer": "ipython3",
   "version": "3.8.3"
  }
 },
 "nbformat": 4,
 "nbformat_minor": 4
}
